{
 "cells": [
  {
   "attachments": {},
   "cell_type": "markdown",
   "metadata": {},
   "source": [
    "# TODO"
   ]
  },
  {
   "attachments": {},
   "cell_type": "markdown",
   "metadata": {},
   "source": [
    "* Create the page\n",
    "* Button to roll dice\n",
    "* Show oracle text on page\n",
    "* button to flip over\n",
    "\n",
    "* Modes\n",
    "    * Random cards\n",
    "    * Choose cards\n",
    "    * Real Rules\n",
    "        * 10 cards in a deck, max of 2 phenomenon\n",
    "        * Use a deque\n",
    "        * Turned over cards go to the bottom\n",
    "    * Chaos Rules\n",
    "        * Never ends (but doesn't repeat until all cards have been used)\n"
   ]
  }
 ],
 "metadata": {
  "language_info": {
   "name": "python"
  },
  "orig_nbformat": 4
 },
 "nbformat": 4,
 "nbformat_minor": 2
}
